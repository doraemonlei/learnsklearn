{
 "cells": [
  {
   "cell_type": "markdown",
   "metadata": {
    "toc": true
   },
   "source": [
    "<h1>Table of Contents<span class=\"tocSkip\"></span></h1>\n",
    "<div class=\"toc\"><ul class=\"toc-item\"></ul></div>"
   ]
  },
  {
   "cell_type": "code",
   "execution_count": 3,
   "metadata": {
    "collapsed": true
   },
   "outputs": [],
   "source": [
    "import numpy as np\n",
    "import matplotlib.pyplot as plt"
   ]
  },
  {
   "cell_type": "markdown",
   "metadata": {},
   "source": [
    "1. plot 视力的变化"
   ]
  },
  {
   "cell_type": "code",
   "execution_count": 19,
   "metadata": {},
   "outputs": [
    {
     "data": {
      "image/png": "[encoded data removed]",
      "text/plain": [
       "<matplotlib.figure.Figure at 0x2436941a860>"
      ]
     },
     "metadata": {},
     "output_type": "display_data"
    }
   ],
   "source": [
    "label = np.random.normal(50, 10, [100, 5]) # 100id, 5次测量\n",
    "shape_ = label.shape\n",
    "\n",
    "#deta\n",
    "labelDeta = np.zeros(shape_)\n",
    "labelDetaNorm = np.zeros(shape_)\n",
    "for ii in range(1, shape_[1]):\n",
    "    labelDeta[:, ii] = label[:, ii] - label[:, ii-1] \n",
    "    labelDetaNorm[:, ii] = (label[:, ii] - label[:, ii-1]) / label[:, ii-1]\n",
    "\n",
    "labelDeta = np.array(labelDeta)\n",
    "labelDetaNorm = np.array(labelDetaNorm)\n",
    "# plot\n",
    "plt.plot(label.mean(0), 'r')\n",
    "plt.plot(labelDeta.mean(0), 'g')\n",
    "plt.plot(labelDetaNorm.mean(0), 'b')\n",
    "plt.show()"
   ]
  },
  {
   "cell_type": "code",
   "execution_count": 12,
   "metadata": {},
   "outputs": [
    {
     "name": "stdout",
     "output_type": "stream",
     "text": [
      "(100,)\n"
     ]
    }
   ],
   "source": [
    "print(label[ii, :].shape)"
   ]
  },
  {
   "cell_type": "markdown",
   "metadata": {},
   "source": [
    "2. 相关性分析\n",
    "\n",
    "corrcoef = cov(a, b) / |a| |b|\n",
    "\n",
    "表示两个变量的线性相关程度\n",
    "\n",
    "以label为例"
   ]
  },
  {
   "cell_type": "code",
   "execution_count": 24,
   "metadata": {},
   "outputs": [
    {
     "name": "stdout",
     "output_type": "stream",
     "text": [
      "(100,) (100,)\n"
     ]
    },
    {
     "data": {
      "image/png": "[encoded data removed]",
      "text/plain": [
       "<matplotlib.figure.Figure at 0x24369950390>"
      ]
     },
     "metadata": {},
     "output_type": "display_data"
    }
   ],
   "source": [
    "param = np.random.normal(6, 10, [shape_[0], ])\n",
    "print(param.shape, labelDeta[:, 0].shape)\n",
    "corrcoef = np.corrcoef(param, label[:, 0])[0, 1]\n",
    "plt.plot(param, label[:, 0], 'bo')\n",
    "plt.title(corrcoef)\n",
    "plt.show()"
   ]
  },
  {
   "cell_type": "code",
   "execution_count": null,
   "metadata": {
    "collapsed": true
   },
   "outputs": [],
   "source": [
    "df = pd.read_excel('data/glass_ana_format.xlsx', encoding='utf-8', sheet_name='格式')"
   ]
  }
 ],
 "metadata": {
  "kernelspec": {
   "display_name": "Python 3",
   "language": "python",
   "name": "python3"
  },
  "language_info": {
   "codemirror_mode": {
    "name": "ipython",
    "version": 3
   },
   "file_extension": ".py",
   "mimetype": "text/x-python",
   "name": "python",
   "nbconvert_exporter": "python",
   "pygments_lexer": "ipython3",
   "version": "3.6.6"
  },
  "toc": {
   "base_numbering": 1,
   "nav_menu": {},
   "number_sections": true,
   "sideBar": true,
   "skip_h1_title": false,
   "title_cell": "Table of Contents",
   "title_sidebar": "Contents",
   "toc_cell": true,
   "toc_position": {},
   "toc_section_display": true,
   "toc_window_display": false
  }
 },
 "nbformat": 4,
 "nbformat_minor": 2
}
