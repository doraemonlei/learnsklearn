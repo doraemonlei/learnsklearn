{
 "cells": [
  {
   "cell_type": "markdown",
   "metadata": {
    "toc": true
   },
   "source": [
    "<h1>Table of Contents<span class=\"tocSkip\"></span></h1>\n",
    "<div class=\"toc\"><ul class=\"toc-item\"><li><span><a href=\"#计算素数\" data-toc-modified-id=\"计算素数-1\"><span class=\"toc-item-num\">1&nbsp;&nbsp;</span>计算素数</a></span></li></ul></div>"
   ]
  },
  {
   "cell_type": "markdown",
   "metadata": {},
   "source": [
    "# 计算素数"
   ]
  },
  {
   "cell_type": "code",
   "execution_count": 1,
   "metadata": {},
   "outputs": [],
   "source": [
    "import numpy as np\n",
    "from time import time\n",
    "import math"
   ]
  },
  {
   "cell_type": "code",
   "execution_count": 3,
   "metadata": {},
   "outputs": [],
   "source": [
    "def is_prime(x):\n",
    "    return 0 not in [x % i for i in range(2, int(math.sqrt(x)) + 1)]\n",
    "\n",
    "def is_prime3(x):\n",
    "    flag = True\n",
    "    for p in p_list2:\n",
    "        if p > math.sqrt(x):\n",
    "            break\n",
    "        if x % p == 0:\n",
    "            flag = False\n",
    "            break\n",
    "    if flag:\n",
    "        p_list2.append(x)\n",
    "    return flag"
   ]
  },
  {
   "cell_type": "code",
   "execution_count": 6,
   "metadata": {},
   "outputs": [
    {
     "name": "stdout",
     "output_type": "stream",
     "text": [
      "2.295576810836792\n",
      "2.352541208267212\n",
      "2.3395469188690186\n",
      "0.44872021675109863\n",
      "0.4017524719238281\n",
      "---------------------\n",
      "素数的概率： 0.1456953642384106\t  公正赔率： 6.863636363636364\n",
      "合数的概率： 0.8543046357615894\t  公正赔率： 1.1705426356589146\n",
      "赔率系数： 0.8013245033112583 0.9397350993377485\n",
      "0.1294701986754967\n",
      "0.08043068286478654\n"
     ]
    }
   ],
   "source": [
    "a = 2\n",
    "b = 100000\n",
    "\n",
    "# 方法1：直接计算\n",
    "t = time()\n",
    "p = [p for p in range(a, b) if 0 not in [p % d for d in range(2, int(math.sqrt(p)) + 1)]]\n",
    "print(time() - t)\n",
    "#print(p)\n",
    "\n",
    "# 方法2：利用filter\n",
    "t = time()\n",
    "p = list(filter(is_prime, list(range(a, b))))\n",
    "print(time() - t)\n",
    "#print(p)\n",
    "\n",
    "# 方法3：利用filter和lambda\n",
    "t = time()\n",
    "is_prime2 = (lambda x: 0 not in [x % i for i in range(2, int(math.sqrt(x)) + 1)])\n",
    "p = list(filter(is_prime2, list(range(a, b))))\n",
    "print(time() - t)\n",
    "#print(p)\n",
    "\n",
    "# 方法4：定义\n",
    "t = time()\n",
    "p_list = []\n",
    "for i in range(2, b):\n",
    "    flag = True\n",
    "    for p in p_list:\n",
    "        if p > math.sqrt(i):\n",
    "            break\n",
    "        if i % p == 0:\n",
    "            flag = False\n",
    "            break\n",
    "    if flag:\n",
    "        p_list.append(i)\n",
    "print(time() - t)\n",
    "#print(p_list)\n",
    "\n",
    "# 方法5：定义和filter\n",
    "p_list2 = []\n",
    "t = time()\n",
    "list(filter(is_prime3, list(range(2, b))))\n",
    "print(time() - t)\n",
    "#print(p_list2)\n",
    "\n",
    "print('---------------------')\n",
    "a = 750\n",
    "b = 900\n",
    "p_list2 = []\n",
    "np.set_printoptions(linewidth=150)\n",
    "p = np.array(list(filter(is_prime3, list(range(2, b+1)))))\n",
    "p = p[p >= a]\n",
    "#print(p)\n",
    "p_rate = float(len(p)) / float(b-a+1)\n",
    "print('素数的概率：', p_rate, end='\\t  ')\n",
    "print('公正赔率：', 1/p_rate)\n",
    "print('合数的概率：', 1-p_rate, end='\\t  ')\n",
    "print('公正赔率：', 1 / (1-p_rate))\n",
    "\n",
    "alpha1 = 5.5 * p_rate\n",
    "alpha2 = 1.1 * (1 - p_rate)\n",
    "print('赔率系数：', alpha1, alpha2)\n",
    "print(1 - (alpha1 + alpha2) / 2)\n",
    "print((1 - alpha1) * p_rate + (1 - alpha2) * (1 - p_rate))"
   ]
  },
  {
   "cell_type": "code",
   "execution_count": null,
   "metadata": {},
   "outputs": [],
   "source": []
  }
 ],
 "metadata": {
  "kernelspec": {
   "display_name": "Python 3",
   "language": "python",
   "name": "python3"
  },
  "language_info": {
   "codemirror_mode": {
    "name": "ipython",
    "version": 3
   },
   "file_extension": ".py",
   "mimetype": "text/x-python",
   "name": "python",
   "nbconvert_exporter": "python",
   "pygments_lexer": "ipython3",
   "version": "3.5.2"
  },
  "toc": {
   "base_numbering": 1,
   "nav_menu": {},
   "number_sections": true,
   "sideBar": true,
   "skip_h1_title": false,
   "title_cell": "Table of Contents",
   "title_sidebar": "Contents",
   "toc_cell": true,
   "toc_position": {},
   "toc_section_display": true,
   "toc_window_display": false
  }
 },
 "nbformat": 4,
 "nbformat_minor": 2
}
